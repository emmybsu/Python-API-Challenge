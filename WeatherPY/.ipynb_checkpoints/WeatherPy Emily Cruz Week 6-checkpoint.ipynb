{
 "cells": [
  {
   "cell_type": "markdown",
   "metadata": {},
   "source": [
    "# WeatherPy\n",
    "----\n",
    "\n",
    "#### Note\n",
    "* Instructions have been included for each segment. You do not have to follow them exactly, but they are included to help you think through the steps."
   ]
  },
  {
   "cell_type": "code",
   "execution_count": null,
   "metadata": {},
   "outputs": [],
   "source": []
  },
  {
   "cell_type": "code",
   "execution_count": 1,
   "metadata": {
    "scrolled": true
   },
   "outputs": [],
   "source": [
    "# Dependencies and Setup\n",
    "import matplotlib.pyplot as plt\n",
    "import pandas as pd\n",
    "import numpy as np\n",
    "import requests\n",
    "import time\n",
    "from scipy.stats import linregress\n",
    "from pprint import pprint\n",
    "import json\n",
    "\n",
    "# Import API key\n",
    "from api_keys import weather_api_key\n",
    "\n",
    "# Incorporated citipy to determine city based on latitude and longitude\n",
    "from citipy import citipy\n",
    "\n",
    "# Output File (CSV)\n",
    "output_data_file = \"output_data/cities.csv\"\n",
    "\n",
    "# Range of latitudes and longitudes\n",
    "lat_range = (-90, 90)\n",
    "lng_range = (-180, 180)"
   ]
  },
  {
   "cell_type": "code",
   "execution_count": null,
   "metadata": {},
   "outputs": [],
   "source": []
  },
  {
   "cell_type": "markdown",
   "metadata": {},
   "source": [
    "## Generate Cities List"
   ]
  },
  {
   "cell_type": "code",
   "execution_count": 2,
   "metadata": {},
   "outputs": [
    {
     "data": {
      "text/plain": [
       "79"
      ]
     },
     "execution_count": 2,
     "metadata": {},
     "output_type": "execute_result"
    }
   ],
   "source": [
    "# List for holding lat_lngs and cities\n",
    "lat_lngs = []\n",
    "cities = []\n",
    "\n",
    "# Create a set of random lat and lng combinations\n",
    "lats = np.random.uniform(lat_range[0], lat_range[1], size=100)\n",
    "lngs = np.random.uniform(lng_range[0], lng_range[1], size=100)\n",
    "lat_lngs = zip(lats, lngs)\n",
    "\n",
    "# Identify nearest city for each lat, lng combination\n",
    "for lat_lng in lat_lngs:\n",
    "    city = citipy.nearest_city(lat_lng[0], lat_lng[1]).city_name\n",
    "    \n",
    "    # If the city is unique, then add it to a our cities list\n",
    "    if city not in cities:\n",
    "        cities.append(city)\n",
    "\n",
    "# Print the city count to confirm sufficient count\n",
    "len(cities)"
   ]
  },
  {
   "cell_type": "code",
   "execution_count": 3,
   "metadata": {},
   "outputs": [
    {
     "name": "stdout",
     "output_type": "stream",
     "text": [
      "0 grand river south east\n",
      "1 rikitea\n",
      "2 nikolskoye\n",
      "3 cayenne\n",
      "4 harper\n",
      "5 san cristobal\n",
      "6 mamallapuram\n",
      "7 kulhudhuffushi\n",
      "8 butaritari\n",
      "9 busselton\n",
      "10 ozark\n",
      "11 bengkulu\n",
      "12 wajima\n",
      "13 hilo\n",
      "14 carnarvon\n",
      "15 punta arenas\n",
      "16 castro\n",
      "17 ushuaia\n",
      "18 ribeira brava\n",
      "19 kluang\n",
      "20 mataura\n",
      "21 superior\n",
      "22 zhanaozen\n",
      "23 atuona\n",
      "24 safita\n",
      "25 bambous virieux\n",
      "26 torbay\n",
      "27 te anau\n",
      "28 amderma\n",
      "29 taolanaro\n",
      "30 port alfred\n",
      "31 beinamar\n",
      "32 kyren\n",
      "33 vaini\n",
      "34 rio gallegos\n",
      "35 mazagao\n",
      "36 saint-philippe\n",
      "37 la mesa\n",
      "38 nome\n",
      "39 jamestown\n",
      "40 olinda\n",
      "41 hobart\n",
      "42 prince rupert\n",
      "43 upernavik\n",
      "44 hirara\n",
      "45 rincon\n",
      "46 hamilton\n",
      "47 pringsewu\n",
      "48 ugoofaaru\n",
      "49 sterling\n",
      "50 puerto ayora\n",
      "51 albany\n",
      "52 saleaula\n",
      "53 bluff\n",
      "54 severo-kurilsk\n",
      "55 mount isa\n",
      "56 cardston\n",
      "57 geraldton\n",
      "58 hurghada\n",
      "59 mys shmidta\n",
      "60 karauli\n",
      "61 cidreira\n",
      "62 vila franca do campo\n",
      "63 saint-augustin\n",
      "64 arraial do cabo\n",
      "65 rehnan\n",
      "66 hofn\n",
      "67 karratha\n",
      "68 necochea\n",
      "69 lebu\n",
      "70 illoqqortoormiut\n",
      "71 vila\n",
      "72 lavrentiya\n",
      "73 arys\n",
      "74 bethel\n",
      "75 saint george\n",
      "76 paamiut\n",
      "77 souillac\n",
      "78 toliary\n"
     ]
    }
   ],
   "source": [
    "for i, val in enumerate(cities):\n",
    "    print (i,  val)"
   ]
  },
  {
   "cell_type": "code",
   "execution_count": 4,
   "metadata": {},
   "outputs": [],
   "source": [
    "unique_city = []\n",
    "cloudy = []\n",
    "country = []\n",
    "date = []\n",
    "humidity = []\n",
    "lat = []\n",
    "lng = []\n",
    "temp = []\n",
    "wind = []"
   ]
  },
  {
   "cell_type": "code",
   "execution_count": 5,
   "metadata": {},
   "outputs": [],
   "source": [
    "init_count = 0\n",
    "add_count = 0"
   ]
  },
  {
   "cell_type": "markdown",
   "metadata": {},
   "source": [
    "### Perform API Calls\n",
    "* Perform a weather check on each city using a series of successive API calls.\n",
    "* Include a print log of each city as it'sbeing processed (with the city number and city name).\n"
   ]
  },
  {
   "cell_type": "code",
   "execution_count": 6,
   "metadata": {},
   "outputs": [],
   "source": [
    "#API call per city for weather check\n",
    "\n",
    "\n",
    "    # setup url\n",
    "url = \"http://api.openweathermap.org/data/2.5/weather?units=Imperial&APPID=\" + weather_api_key"
   ]
  },
  {
   "cell_type": "code",
   "execution_count": 7,
   "metadata": {},
   "outputs": [
    {
     "name": "stdout",
     "output_type": "stream",
     "text": [
      "Data Retrieval\n",
      "--------------\n"
     ]
    }
   ],
   "source": [
    "print('Data Retrieval')\n",
    "print('--------------')\n"
   ]
  },
  {
   "cell_type": "code",
   "execution_count": 8,
   "metadata": {},
   "outputs": [
    {
     "name": "stdout",
     "output_type": "stream",
     "text": [
      "http://api.openweathermap.org/data/2.5/weather?units=Imperial&APPID=ad8965691e3673ef2133a70580b72d0f&q=grand river south east\n",
      "City not found!\n",
      "http://api.openweathermap.org/data/2.5/weather?units=Imperial&APPID=ad8965691e3673ef2133a70580b72d0f&q=rikitea\n",
      "http://api.openweathermap.org/data/2.5/weather?units=Imperial&APPID=ad8965691e3673ef2133a70580b72d0f&q=nikolskoye\n",
      "http://api.openweathermap.org/data/2.5/weather?units=Imperial&APPID=ad8965691e3673ef2133a70580b72d0f&q=cayenne\n",
      "http://api.openweathermap.org/data/2.5/weather?units=Imperial&APPID=ad8965691e3673ef2133a70580b72d0f&q=harper\n",
      "http://api.openweathermap.org/data/2.5/weather?units=Imperial&APPID=ad8965691e3673ef2133a70580b72d0f&q=san cristobal\n",
      "http://api.openweathermap.org/data/2.5/weather?units=Imperial&APPID=ad8965691e3673ef2133a70580b72d0f&q=mamallapuram\n",
      "http://api.openweathermap.org/data/2.5/weather?units=Imperial&APPID=ad8965691e3673ef2133a70580b72d0f&q=kulhudhuffushi\n",
      "http://api.openweathermap.org/data/2.5/weather?units=Imperial&APPID=ad8965691e3673ef2133a70580b72d0f&q=butaritari\n",
      "http://api.openweathermap.org/data/2.5/weather?units=Imperial&APPID=ad8965691e3673ef2133a70580b72d0f&q=busselton\n",
      "http://api.openweathermap.org/data/2.5/weather?units=Imperial&APPID=ad8965691e3673ef2133a70580b72d0f&q=ozark\n",
      "http://api.openweathermap.org/data/2.5/weather?units=Imperial&APPID=ad8965691e3673ef2133a70580b72d0f&q=bengkulu\n",
      "http://api.openweathermap.org/data/2.5/weather?units=Imperial&APPID=ad8965691e3673ef2133a70580b72d0f&q=wajima\n",
      "http://api.openweathermap.org/data/2.5/weather?units=Imperial&APPID=ad8965691e3673ef2133a70580b72d0f&q=hilo\n",
      "http://api.openweathermap.org/data/2.5/weather?units=Imperial&APPID=ad8965691e3673ef2133a70580b72d0f&q=carnarvon\n",
      "http://api.openweathermap.org/data/2.5/weather?units=Imperial&APPID=ad8965691e3673ef2133a70580b72d0f&q=punta arenas\n",
      "http://api.openweathermap.org/data/2.5/weather?units=Imperial&APPID=ad8965691e3673ef2133a70580b72d0f&q=castro\n",
      "http://api.openweathermap.org/data/2.5/weather?units=Imperial&APPID=ad8965691e3673ef2133a70580b72d0f&q=ushuaia\n",
      "http://api.openweathermap.org/data/2.5/weather?units=Imperial&APPID=ad8965691e3673ef2133a70580b72d0f&q=ribeira brava\n",
      "http://api.openweathermap.org/data/2.5/weather?units=Imperial&APPID=ad8965691e3673ef2133a70580b72d0f&q=kluang\n",
      "http://api.openweathermap.org/data/2.5/weather?units=Imperial&APPID=ad8965691e3673ef2133a70580b72d0f&q=mataura\n",
      "http://api.openweathermap.org/data/2.5/weather?units=Imperial&APPID=ad8965691e3673ef2133a70580b72d0f&q=superior\n",
      "http://api.openweathermap.org/data/2.5/weather?units=Imperial&APPID=ad8965691e3673ef2133a70580b72d0f&q=zhanaozen\n",
      "http://api.openweathermap.org/data/2.5/weather?units=Imperial&APPID=ad8965691e3673ef2133a70580b72d0f&q=atuona\n",
      "http://api.openweathermap.org/data/2.5/weather?units=Imperial&APPID=ad8965691e3673ef2133a70580b72d0f&q=safita\n",
      "http://api.openweathermap.org/data/2.5/weather?units=Imperial&APPID=ad8965691e3673ef2133a70580b72d0f&q=bambous virieux\n",
      "http://api.openweathermap.org/data/2.5/weather?units=Imperial&APPID=ad8965691e3673ef2133a70580b72d0f&q=torbay\n",
      "http://api.openweathermap.org/data/2.5/weather?units=Imperial&APPID=ad8965691e3673ef2133a70580b72d0f&q=te anau\n",
      "http://api.openweathermap.org/data/2.5/weather?units=Imperial&APPID=ad8965691e3673ef2133a70580b72d0f&q=amderma\n",
      "City not found!\n",
      "http://api.openweathermap.org/data/2.5/weather?units=Imperial&APPID=ad8965691e3673ef2133a70580b72d0f&q=taolanaro\n",
      "City not found!\n",
      "http://api.openweathermap.org/data/2.5/weather?units=Imperial&APPID=ad8965691e3673ef2133a70580b72d0f&q=port alfred\n",
      "http://api.openweathermap.org/data/2.5/weather?units=Imperial&APPID=ad8965691e3673ef2133a70580b72d0f&q=beinamar\n",
      "http://api.openweathermap.org/data/2.5/weather?units=Imperial&APPID=ad8965691e3673ef2133a70580b72d0f&q=kyren\n",
      "http://api.openweathermap.org/data/2.5/weather?units=Imperial&APPID=ad8965691e3673ef2133a70580b72d0f&q=vaini\n",
      "http://api.openweathermap.org/data/2.5/weather?units=Imperial&APPID=ad8965691e3673ef2133a70580b72d0f&q=rio gallegos\n",
      "http://api.openweathermap.org/data/2.5/weather?units=Imperial&APPID=ad8965691e3673ef2133a70580b72d0f&q=mazagao\n",
      "http://api.openweathermap.org/data/2.5/weather?units=Imperial&APPID=ad8965691e3673ef2133a70580b72d0f&q=saint-philippe\n",
      "http://api.openweathermap.org/data/2.5/weather?units=Imperial&APPID=ad8965691e3673ef2133a70580b72d0f&q=la mesa\n",
      "http://api.openweathermap.org/data/2.5/weather?units=Imperial&APPID=ad8965691e3673ef2133a70580b72d0f&q=nome\n",
      "http://api.openweathermap.org/data/2.5/weather?units=Imperial&APPID=ad8965691e3673ef2133a70580b72d0f&q=jamestown\n",
      "http://api.openweathermap.org/data/2.5/weather?units=Imperial&APPID=ad8965691e3673ef2133a70580b72d0f&q=olinda\n",
      "http://api.openweathermap.org/data/2.5/weather?units=Imperial&APPID=ad8965691e3673ef2133a70580b72d0f&q=hobart\n",
      "http://api.openweathermap.org/data/2.5/weather?units=Imperial&APPID=ad8965691e3673ef2133a70580b72d0f&q=prince rupert\n",
      "http://api.openweathermap.org/data/2.5/weather?units=Imperial&APPID=ad8965691e3673ef2133a70580b72d0f&q=upernavik\n",
      "http://api.openweathermap.org/data/2.5/weather?units=Imperial&APPID=ad8965691e3673ef2133a70580b72d0f&q=hirara\n",
      "http://api.openweathermap.org/data/2.5/weather?units=Imperial&APPID=ad8965691e3673ef2133a70580b72d0f&q=rincon\n",
      "http://api.openweathermap.org/data/2.5/weather?units=Imperial&APPID=ad8965691e3673ef2133a70580b72d0f&q=hamilton\n",
      "http://api.openweathermap.org/data/2.5/weather?units=Imperial&APPID=ad8965691e3673ef2133a70580b72d0f&q=pringsewu\n",
      "http://api.openweathermap.org/data/2.5/weather?units=Imperial&APPID=ad8965691e3673ef2133a70580b72d0f&q=ugoofaaru\n",
      "http://api.openweathermap.org/data/2.5/weather?units=Imperial&APPID=ad8965691e3673ef2133a70580b72d0f&q=sterling\n",
      "http://api.openweathermap.org/data/2.5/weather?units=Imperial&APPID=ad8965691e3673ef2133a70580b72d0f&q=puerto ayora\n",
      "http://api.openweathermap.org/data/2.5/weather?units=Imperial&APPID=ad8965691e3673ef2133a70580b72d0f&q=albany\n",
      "http://api.openweathermap.org/data/2.5/weather?units=Imperial&APPID=ad8965691e3673ef2133a70580b72d0f&q=saleaula\n",
      "City not found!\n",
      "http://api.openweathermap.org/data/2.5/weather?units=Imperial&APPID=ad8965691e3673ef2133a70580b72d0f&q=bluff\n",
      "http://api.openweathermap.org/data/2.5/weather?units=Imperial&APPID=ad8965691e3673ef2133a70580b72d0f&q=severo-kurilsk\n",
      "http://api.openweathermap.org/data/2.5/weather?units=Imperial&APPID=ad8965691e3673ef2133a70580b72d0f&q=mount isa\n",
      "http://api.openweathermap.org/data/2.5/weather?units=Imperial&APPID=ad8965691e3673ef2133a70580b72d0f&q=cardston\n",
      "http://api.openweathermap.org/data/2.5/weather?units=Imperial&APPID=ad8965691e3673ef2133a70580b72d0f&q=geraldton\n",
      "http://api.openweathermap.org/data/2.5/weather?units=Imperial&APPID=ad8965691e3673ef2133a70580b72d0f&q=hurghada\n",
      "http://api.openweathermap.org/data/2.5/weather?units=Imperial&APPID=ad8965691e3673ef2133a70580b72d0f&q=mys shmidta\n",
      "City not found!\n",
      "http://api.openweathermap.org/data/2.5/weather?units=Imperial&APPID=ad8965691e3673ef2133a70580b72d0f&q=karauli\n",
      "http://api.openweathermap.org/data/2.5/weather?units=Imperial&APPID=ad8965691e3673ef2133a70580b72d0f&q=cidreira\n",
      "http://api.openweathermap.org/data/2.5/weather?units=Imperial&APPID=ad8965691e3673ef2133a70580b72d0f&q=vila franca do campo\n",
      "http://api.openweathermap.org/data/2.5/weather?units=Imperial&APPID=ad8965691e3673ef2133a70580b72d0f&q=saint-augustin\n",
      "http://api.openweathermap.org/data/2.5/weather?units=Imperial&APPID=ad8965691e3673ef2133a70580b72d0f&q=arraial do cabo\n",
      "http://api.openweathermap.org/data/2.5/weather?units=Imperial&APPID=ad8965691e3673ef2133a70580b72d0f&q=rehnan\n",
      "http://api.openweathermap.org/data/2.5/weather?units=Imperial&APPID=ad8965691e3673ef2133a70580b72d0f&q=hofn\n",
      "http://api.openweathermap.org/data/2.5/weather?units=Imperial&APPID=ad8965691e3673ef2133a70580b72d0f&q=karratha\n",
      "http://api.openweathermap.org/data/2.5/weather?units=Imperial&APPID=ad8965691e3673ef2133a70580b72d0f&q=necochea\n",
      "http://api.openweathermap.org/data/2.5/weather?units=Imperial&APPID=ad8965691e3673ef2133a70580b72d0f&q=lebu\n",
      "http://api.openweathermap.org/data/2.5/weather?units=Imperial&APPID=ad8965691e3673ef2133a70580b72d0f&q=illoqqortoormiut\n",
      "City not found!\n",
      "http://api.openweathermap.org/data/2.5/weather?units=Imperial&APPID=ad8965691e3673ef2133a70580b72d0f&q=vila\n"
     ]
    },
    {
     "name": "stdout",
     "output_type": "stream",
     "text": [
      "http://api.openweathermap.org/data/2.5/weather?units=Imperial&APPID=ad8965691e3673ef2133a70580b72d0f&q=lavrentiya\n",
      "http://api.openweathermap.org/data/2.5/weather?units=Imperial&APPID=ad8965691e3673ef2133a70580b72d0f&q=arys\n",
      "http://api.openweathermap.org/data/2.5/weather?units=Imperial&APPID=ad8965691e3673ef2133a70580b72d0f&q=bethel\n",
      "http://api.openweathermap.org/data/2.5/weather?units=Imperial&APPID=ad8965691e3673ef2133a70580b72d0f&q=saint george\n",
      "http://api.openweathermap.org/data/2.5/weather?units=Imperial&APPID=ad8965691e3673ef2133a70580b72d0f&q=paamiut\n",
      "http://api.openweathermap.org/data/2.5/weather?units=Imperial&APPID=ad8965691e3673ef2133a70580b72d0f&q=souillac\n",
      "http://api.openweathermap.org/data/2.5/weather?units=Imperial&APPID=ad8965691e3673ef2133a70580b72d0f&q=toliary\n",
      "City not found!\n",
      "-------------------------\n",
      "Data Retrieval Complete\n",
      "-------------------------\n"
     ]
    }
   ],
   "source": [
    "\n",
    "for city in cities:\n",
    "    # add city url\n",
    "    city_url = url + \"&q=\" + city\n",
    "    print(city_url)\n",
    "#     break\n",
    "    response = requests.get(city_url).json()\n",
    "    \n",
    "    try:\n",
    "        cloudy.append(response['clouds']['all'])\n",
    "        country.append(response['sys']['country'])\n",
    "        date.append(response['dt'])\n",
    "        humidity.append(response['main']['humidity'])\n",
    "        temp.append(response['main']['temp_max'])\n",
    "        lat.append(response['coord']['lat'])\n",
    "        lng.append(response['coord']['lon'])\n",
    "        wind.append(response['wind']['speed'])\n",
    "        unique_city.append(response['name'])\n",
    "    \n",
    "    except(KeyError):\n",
    "        print(\"City not found!\")\n",
    "        #pass\n",
    "\n",
    "print('-------------------------')\n",
    "print('Data Retrieval Complete')\n",
    "print('-------------------------')\n",
    "  "
   ]
  },
  {
   "cell_type": "markdown",
   "metadata": {},
   "source": [
    "### Convert Raw Data to DataFrame\n",
    "* Export the city data into a .csv.\n",
    "* Display the DataFrame"
   ]
  },
  {
   "cell_type": "code",
   "execution_count": 9,
   "metadata": {},
   "outputs": [
    {
     "data": {
      "text/plain": [
       "72"
      ]
     },
     "execution_count": 9,
     "metadata": {},
     "output_type": "execute_result"
    }
   ],
   "source": [
    "len(cloudy)"
   ]
  },
  {
   "cell_type": "code",
   "execution_count": 11,
   "metadata": {},
   "outputs": [
    {
     "data": {
      "text/html": [
       "<div>\n",
       "<style scoped>\n",
       "    .dataframe tbody tr th:only-of-type {\n",
       "        vertical-align: middle;\n",
       "    }\n",
       "\n",
       "    .dataframe tbody tr th {\n",
       "        vertical-align: top;\n",
       "    }\n",
       "\n",
       "    .dataframe thead th {\n",
       "        text-align: right;\n",
       "    }\n",
       "</style>\n",
       "<table border=\"1\" class=\"dataframe\">\n",
       "  <thead>\n",
       "    <tr style=\"text-align: right;\">\n",
       "      <th></th>\n",
       "      <th>City</th>\n",
       "      <th>Cloudiness</th>\n",
       "      <th>Country</th>\n",
       "      <th>Date</th>\n",
       "      <th>Humidity</th>\n",
       "      <th>Lat</th>\n",
       "      <th>Lng</th>\n",
       "      <th>Max Temp</th>\n",
       "      <th>Wind Speed</th>\n",
       "    </tr>\n",
       "    <tr>\n",
       "      <th>City ID</th>\n",
       "      <th></th>\n",
       "      <th></th>\n",
       "      <th></th>\n",
       "      <th></th>\n",
       "      <th></th>\n",
       "      <th></th>\n",
       "      <th></th>\n",
       "      <th></th>\n",
       "      <th></th>\n",
       "    </tr>\n",
       "  </thead>\n",
       "  <tbody>\n",
       "    <tr>\n",
       "      <th>0</th>\n",
       "      <td>Rikitea</td>\n",
       "      <td>0</td>\n",
       "      <td>PF</td>\n",
       "      <td>1611622110</td>\n",
       "      <td>68</td>\n",
       "      <td>-23.1203</td>\n",
       "      <td>-134.9692</td>\n",
       "      <td>79.92</td>\n",
       "      <td>11.72</td>\n",
       "    </tr>\n",
       "    <tr>\n",
       "      <th>1</th>\n",
       "      <td>Nikolskoye</td>\n",
       "      <td>90</td>\n",
       "      <td>RU</td>\n",
       "      <td>1611622114</td>\n",
       "      <td>93</td>\n",
       "      <td>59.7035</td>\n",
       "      <td>30.7861</td>\n",
       "      <td>37.00</td>\n",
       "      <td>6.71</td>\n",
       "    </tr>\n",
       "  </tbody>\n",
       "</table>\n",
       "</div>"
      ],
      "text/plain": [
       "               City  Cloudiness Country        Date  Humidity      Lat  \\\n",
       "City ID                                                                  \n",
       "0           Rikitea           0      PF  1611622110        68 -23.1203   \n",
       "1        Nikolskoye          90      RU  1611622114        93  59.7035   \n",
       "\n",
       "              Lng  Max Temp  Wind Speed  \n",
       "City ID                                  \n",
       "0       -134.9692     79.92       11.72  \n",
       "1         30.7861     37.00        6.71  "
      ]
     },
     "execution_count": 11,
     "metadata": {},
     "output_type": "execute_result"
    }
   ],
   "source": [
    "#      cloudy.append(response['clouds']['all'])\n",
    "#         country.append(response['sys']['country'])\n",
    "#         date.append(response['dt'])\n",
    "#         humidity.append(response['main']['humidity'])\n",
    "#         temp.append(response['main']['temp_max'])\n",
    "#         lat.append(response['coord']['lat'])\n",
    "#         lng.append(response['coord']['lon'])\n",
    "#         wind.append(response['wind']['speed'])\n",
    "#         unique_city.append(response['name'])\n",
    "    \n",
    "\n",
    "\n",
    "city_df = pd.DataFrame({\"City\": unique_city, \n",
    "                        \"Cloudiness\": cloudy, \n",
    "                        \"Country\": country, \n",
    "                        \"Date\": date, \n",
    "                        \"Humidity\":humidity,\n",
    "                        \"Lat\": lat,\n",
    "                        \"Lng\": lng,\n",
    "                        \"Max Temp\": temp,\n",
    "                        \"Wind Speed\": wind\n",
    "                                         })\n",
    "\n",
    "city_df = city_df.rename_axis('City ID')\n",
    "\n",
    "city_df.head(2)\n"
   ]
  },
  {
   "cell_type": "code",
   "execution_count": null,
   "metadata": {},
   "outputs": [],
   "source": []
  },
  {
   "cell_type": "code",
   "execution_count": null,
   "metadata": {},
   "outputs": [],
   "source": []
  },
  {
   "cell_type": "code",
   "execution_count": null,
   "metadata": {},
   "outputs": [],
   "source": []
  },
  {
   "cell_type": "markdown",
   "metadata": {},
   "source": [
    "## Inspect the data and remove the cities where the humidity > 100%.\n",
    "----\n",
    "Skip this step if there are no cities that have humidity > 100%. "
   ]
  },
  {
   "cell_type": "code",
   "execution_count": null,
   "metadata": {},
   "outputs": [],
   "source": []
  },
  {
   "cell_type": "code",
   "execution_count": null,
   "metadata": {},
   "outputs": [],
   "source": [
    "#  Get the indices of cities that have humidity over 100%.\n"
   ]
  },
  {
   "cell_type": "code",
   "execution_count": null,
   "metadata": {},
   "outputs": [],
   "source": [
    "# Make a new DataFrame equal to the city data to drop all humidity outliers by index.\n",
    "# Passing \"inplace=False\" will make a copy of the city_data DataFrame, which we call \"clean_city_data\".\n"
   ]
  },
  {
   "cell_type": "code",
   "execution_count": null,
   "metadata": {},
   "outputs": [],
   "source": [
    "\n"
   ]
  },
  {
   "cell_type": "markdown",
   "metadata": {},
   "source": [
    "## Plotting the Data\n",
    "* Use proper labeling of the plots using plot titles (including date of analysis) and axes labels.\n",
    "* Save the plotted figures as .pngs."
   ]
  },
  {
   "cell_type": "markdown",
   "metadata": {},
   "source": [
    "## Latitude vs. Temperature Plot"
   ]
  },
  {
   "cell_type": "code",
   "execution_count": null,
   "metadata": {
    "scrolled": true
   },
   "outputs": [],
   "source": []
  },
  {
   "cell_type": "markdown",
   "metadata": {},
   "source": [
    "## Latitude vs. Humidity Plot"
   ]
  },
  {
   "cell_type": "code",
   "execution_count": null,
   "metadata": {},
   "outputs": [],
   "source": []
  },
  {
   "cell_type": "markdown",
   "metadata": {},
   "source": [
    "## Latitude vs. Cloudiness Plot"
   ]
  },
  {
   "cell_type": "code",
   "execution_count": null,
   "metadata": {},
   "outputs": [],
   "source": []
  },
  {
   "cell_type": "markdown",
   "metadata": {},
   "source": [
    "## Latitude vs. Wind Speed Plot"
   ]
  },
  {
   "cell_type": "code",
   "execution_count": null,
   "metadata": {},
   "outputs": [],
   "source": []
  },
  {
   "cell_type": "markdown",
   "metadata": {},
   "source": [
    "## Linear Regression"
   ]
  },
  {
   "cell_type": "code",
   "execution_count": null,
   "metadata": {},
   "outputs": [],
   "source": []
  },
  {
   "cell_type": "markdown",
   "metadata": {},
   "source": [
    "####  Northern Hemisphere - Max Temp vs. Latitude Linear Regression"
   ]
  },
  {
   "cell_type": "code",
   "execution_count": null,
   "metadata": {},
   "outputs": [],
   "source": []
  },
  {
   "cell_type": "markdown",
   "metadata": {},
   "source": [
    "####  Southern Hemisphere - Max Temp vs. Latitude Linear Regression"
   ]
  },
  {
   "cell_type": "code",
   "execution_count": null,
   "metadata": {},
   "outputs": [],
   "source": []
  },
  {
   "cell_type": "markdown",
   "metadata": {},
   "source": [
    "####  Northern Hemisphere - Humidity (%) vs. Latitude Linear Regression"
   ]
  },
  {
   "cell_type": "code",
   "execution_count": null,
   "metadata": {},
   "outputs": [],
   "source": []
  },
  {
   "cell_type": "markdown",
   "metadata": {},
   "source": [
    "####  Southern Hemisphere - Humidity (%) vs. Latitude Linear Regression"
   ]
  },
  {
   "cell_type": "code",
   "execution_count": null,
   "metadata": {},
   "outputs": [],
   "source": []
  },
  {
   "cell_type": "markdown",
   "metadata": {},
   "source": [
    "####  Northern Hemisphere - Cloudiness (%) vs. Latitude Linear Regression"
   ]
  },
  {
   "cell_type": "code",
   "execution_count": null,
   "metadata": {},
   "outputs": [],
   "source": []
  },
  {
   "cell_type": "markdown",
   "metadata": {},
   "source": [
    "####  Southern Hemisphere - Cloudiness (%) vs. Latitude Linear Regression"
   ]
  },
  {
   "cell_type": "code",
   "execution_count": null,
   "metadata": {},
   "outputs": [],
   "source": []
  },
  {
   "cell_type": "markdown",
   "metadata": {},
   "source": [
    "####  Northern Hemisphere - Wind Speed (mph) vs. Latitude Linear Regression"
   ]
  },
  {
   "cell_type": "code",
   "execution_count": null,
   "metadata": {},
   "outputs": [],
   "source": []
  },
  {
   "cell_type": "markdown",
   "metadata": {},
   "source": [
    "####  Southern Hemisphere - Wind Speed (mph) vs. Latitude Linear Regression"
   ]
  },
  {
   "cell_type": "code",
   "execution_count": null,
   "metadata": {},
   "outputs": [],
   "source": []
  },
  {
   "cell_type": "code",
   "execution_count": null,
   "metadata": {},
   "outputs": [],
   "source": []
  }
 ],
 "metadata": {
  "anaconda-cloud": {},
  "kernel_info": {
   "name": "python3"
  },
  "kernelspec": {
   "display_name": "Python [conda env:PythonData] *",
   "language": "python",
   "name": "conda-env-PythonData-py"
  },
  "language_info": {
   "codemirror_mode": {
    "name": "ipython",
    "version": 3
   },
   "file_extension": ".py",
   "mimetype": "text/x-python",
   "name": "python",
   "nbconvert_exporter": "python",
   "pygments_lexer": "ipython3",
   "version": "3.6.10"
  },
  "latex_envs": {
   "LaTeX_envs_menu_present": true,
   "autoclose": false,
   "autocomplete": true,
   "bibliofile": "biblio.bib",
   "cite_by": "apalike",
   "current_citInitial": 1,
   "eqLabelWithNumbers": true,
   "eqNumInitial": 1,
   "hotkeys": {
    "equation": "Ctrl-E",
    "itemize": "Ctrl-I"
   },
   "labels_anchors": false,
   "latex_user_defs": false,
   "report_style_numbering": false,
   "user_envs_cfg": false
  },
  "nteract": {
   "version": "0.12.3"
  }
 },
 "nbformat": 4,
 "nbformat_minor": 2
}
